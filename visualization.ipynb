{
 "cells": [
  {
   "cell_type": "code",
   "execution_count": 2,
   "metadata": {},
   "outputs": [],
   "source": [
    "import pandas as pd"
   ]
  },
  {
   "cell_type": "code",
   "execution_count": 3,
   "metadata": {},
   "outputs": [
    {
     "data": {
      "text/plain": [
       "['2023-11-20T15:28:52.538800-0300', '10.11.7.120', '45.154.98.21', 'alert']"
      ]
     },
     "execution_count": 3,
     "metadata": {},
     "output_type": "execute_result"
    }
   ],
   "source": [
    "df = pd.read_csv('Suricata_datas.csv')\n",
    "df_columns_name = df.columns.to_list()\n",
    "df_columns_name"
   ]
  },
  {
   "cell_type": "code",
   "execution_count": 4,
   "metadata": {},
   "outputs": [
    {
     "data": {
      "text/html": [
       "<div>\n",
       "<style scoped>\n",
       "    .dataframe tbody tr th:only-of-type {\n",
       "        vertical-align: middle;\n",
       "    }\n",
       "\n",
       "    .dataframe tbody tr th {\n",
       "        vertical-align: top;\n",
       "    }\n",
       "\n",
       "    .dataframe thead th {\n",
       "        text-align: right;\n",
       "    }\n",
       "</style>\n",
       "<table border=\"1\" class=\"dataframe\">\n",
       "  <thead>\n",
       "    <tr style=\"text-align: right;\">\n",
       "      <th></th>\n",
       "      <th>Time</th>\n",
       "      <th>Ip source</th>\n",
       "      <th>Ip destination</th>\n",
       "      <th>alert</th>\n",
       "    </tr>\n",
       "  </thead>\n",
       "  <tbody>\n",
       "    <tr>\n",
       "      <th>0</th>\n",
       "      <td>2023-11-20T15:29:49.199095-0300</td>\n",
       "      <td>10.11.7.120</td>\n",
       "      <td>45.154.98.21</td>\n",
       "      <td>alert</td>\n",
       "    </tr>\n",
       "    <tr>\n",
       "      <th>1</th>\n",
       "      <td>2023-11-20T15:29:49.199095-0300</td>\n",
       "      <td>10.11.7.120</td>\n",
       "      <td>45.154.98.21</td>\n",
       "      <td>alert</td>\n",
       "    </tr>\n",
       "    <tr>\n",
       "      <th>2</th>\n",
       "      <td>2023-11-20T15:29:49.199095-0300</td>\n",
       "      <td>10.11.7.120</td>\n",
       "      <td>45.154.98.21</td>\n",
       "      <td>alert</td>\n",
       "    </tr>\n",
       "    <tr>\n",
       "      <th>3</th>\n",
       "      <td>2023-11-20T15:29:49.199095-0300</td>\n",
       "      <td>10.11.7.120</td>\n",
       "      <td>45.154.98.21</td>\n",
       "      <td>alert</td>\n",
       "    </tr>\n",
       "    <tr>\n",
       "      <th>4</th>\n",
       "      <td>2023-11-20T15:29:49.524823-0300</td>\n",
       "      <td>45.154.98.21</td>\n",
       "      <td>10.11.7.120</td>\n",
       "      <td>alert</td>\n",
       "    </tr>\n",
       "    <tr>\n",
       "      <th>...</th>\n",
       "      <td>...</td>\n",
       "      <td>...</td>\n",
       "      <td>...</td>\n",
       "      <td>...</td>\n",
       "    </tr>\n",
       "    <tr>\n",
       "      <th>687</th>\n",
       "      <td>2023-11-20T16:19:08.615933-0300</td>\n",
       "      <td>10.11.7.120</td>\n",
       "      <td>188.246.224.221</td>\n",
       "      <td>alert</td>\n",
       "    </tr>\n",
       "    <tr>\n",
       "      <th>688</th>\n",
       "      <td>2023-11-20T16:19:13.019895-0300</td>\n",
       "      <td>10.11.7.120</td>\n",
       "      <td>188.246.224.221</td>\n",
       "      <td>alert</td>\n",
       "    </tr>\n",
       "    <tr>\n",
       "      <th>689</th>\n",
       "      <td>2023-11-20T16:19:17.419765-0300</td>\n",
       "      <td>10.11.7.120</td>\n",
       "      <td>188.246.224.221</td>\n",
       "      <td>alert</td>\n",
       "    </tr>\n",
       "    <tr>\n",
       "      <th>690</th>\n",
       "      <td>2023-11-20T16:19:21.834357-0300</td>\n",
       "      <td>10.11.7.120</td>\n",
       "      <td>188.246.224.221</td>\n",
       "      <td>alert</td>\n",
       "    </tr>\n",
       "    <tr>\n",
       "      <th>691</th>\n",
       "      <td>2023-11-20T16:19:26.230989-0300</td>\n",
       "      <td>10.11.7.120</td>\n",
       "      <td>188.246.224.221</td>\n",
       "      <td>alert</td>\n",
       "    </tr>\n",
       "  </tbody>\n",
       "</table>\n",
       "<p>692 rows × 4 columns</p>\n",
       "</div>"
      ],
      "text/plain": [
       "                                Time     Ip source   Ip destination  alert\n",
       "0    2023-11-20T15:29:49.199095-0300   10.11.7.120     45.154.98.21  alert\n",
       "1    2023-11-20T15:29:49.199095-0300   10.11.7.120     45.154.98.21  alert\n",
       "2    2023-11-20T15:29:49.199095-0300   10.11.7.120     45.154.98.21  alert\n",
       "3    2023-11-20T15:29:49.199095-0300   10.11.7.120     45.154.98.21  alert\n",
       "4    2023-11-20T15:29:49.524823-0300  45.154.98.21      10.11.7.120  alert\n",
       "..                               ...           ...              ...    ...\n",
       "687  2023-11-20T16:19:08.615933-0300   10.11.7.120  188.246.224.221  alert\n",
       "688  2023-11-20T16:19:13.019895-0300   10.11.7.120  188.246.224.221  alert\n",
       "689  2023-11-20T16:19:17.419765-0300   10.11.7.120  188.246.224.221  alert\n",
       "690  2023-11-20T16:19:21.834357-0300   10.11.7.120  188.246.224.221  alert\n",
       "691  2023-11-20T16:19:26.230989-0300   10.11.7.120  188.246.224.221  alert\n",
       "\n",
       "[692 rows x 4 columns]"
      ]
     },
     "execution_count": 4,
     "metadata": {},
     "output_type": "execute_result"
    }
   ],
   "source": [
    "df.rename(columns={'2023-11-20T15:28:52.538800-0300': 'Time', '10.11.7.120': 'Ip source', '45.154.98.21': 'Ip destination'})"
   ]
  },
  {
   "cell_type": "code",
   "execution_count": null,
   "metadata": {},
   "outputs": [],
   "source": []
  },
  {
   "cell_type": "code",
   "execution_count": null,
   "metadata": {},
   "outputs": [],
   "source": []
  }
 ],
 "metadata": {
  "kernelspec": {
   "display_name": "Python 3",
   "language": "python",
   "name": "python3"
  },
  "language_info": {
   "codemirror_mode": {
    "name": "ipython",
    "version": 3
   },
   "file_extension": ".py",
   "mimetype": "text/x-python",
   "name": "python",
   "nbconvert_exporter": "python",
   "pygments_lexer": "ipython3",
   "version": "3.12.1"
  }
 },
 "nbformat": 4,
 "nbformat_minor": 2
}
